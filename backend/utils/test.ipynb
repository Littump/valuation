{
 "cells": [
  {
   "cell_type": "code",
   "execution_count": 7,
   "metadata": {},
   "outputs": [
    {
     "name": "stdout",
     "output_type": "stream",
     "text": [
      "dict_keys(['region', 'object_type', 'rooms', 'price', 'house_material', 'parking_type', 'area', 'floor', 'id', 'cnt_rooms', 'has_lift', 'sq_m_price', 'latitude', 'longitude', 'y_coord', 'x_coord', 'dist_to_center', 'emb0', 'emb1', 'emb2', 'emb3', 'emb4', 'emb5', 'emb6', 'emb7', 'emb8', 'emb9', 'emb10', 'emb11', 'emb12', 'emb13', 'emb14', 'emb15', 'emb16', 'emb17', 'emb18', 'emb19', 'emb20', 'emb21', 'emb22', 'emb23', 'emb24', 'emb25', 'emb26', 'emb27', 'emb28', 'emb29', 'emb30', 'emb31', 'emb32', 'emb33', 'emb34', 'emb35', 'emb36', 'emb37', 'emb38', 'emb39', 'emb40', 'emb41', 'emb42', 'emb43', 'emb44', 'emb45', 'emb46', 'emb47', 'emb48', 'emb49', 'emb50', 'emb51', 'emb52', 'emb53', 'emb54', 'emb55', 'emb56', 'emb57', 'emb58', 'emb59', 'emb60', 'emb61', 'emb62', 'emb63', 'emb64', 'emb65', 'emb66', 'emb67', 'emb68', 'emb69', 'emb70', 'emb71', 'emb72', 'emb73', 'emb74', 'emb75', 'emb76', 'emb77', 'emb78', 'emb79', 'emb80', 'emb81', 'emb82', 'emb83', 'emb84', 'emb85', 'emb86', 'emb87', 'emb88', 'emb89', 'emb90', 'emb91', 'emb92', 'emb93', 'emb94', 'emb95', 'emb96', 'emb97', 'emb98', 'emb99', 'продуктовый магазин', 'достопримечательность', 'аптека', 'кафе', 'детский сад', 'школа', 'фитнес-клуб', 'поликлиника', 'тц', 'кинотеатр', 'nearest_infro_cnt', 'nearest_metro', 'nearest_metro_dist', 'Площадь всего', 'Год постройки', 'Число этажей', 'Аварийный', 'Количество квартир', 'Площадь жилых в м2', 'Площадь нежилых в м2', 'Культурное наследие', 'Класс энергетической эффективности', 'Количество подъездов', 'Количество лифтов', 'Приспособления для маломобильных людей', 'Водоотведение', 'Газоснабжение', 'Горячее водоснабжение', 'Холодное водоснабжение', 'Теплоснабжение', 'Электроснабжение', 'Несущие стены', 'Фундамент', 'Перекрытия', 'nearest_plane_dist', 'nearest_train_dist', 'nearest_bus_dist', 'is_flat', 'is_outdoor', 'is_plan', 'interior_style', 'interior_qual', 'photo_emb0', 'photo_emb1', 'photo_emb2', 'photo_emb3', 'photo_emb4', 'photo_emb5', 'photo_emb6', 'photo_emb7', 'photo_emb8', 'photo_emb9', 'photo_emb10', 'photo_emb11', 'photo_emb12', 'photo_emb13', 'photo_emb14', 'photo_emb15', 'photo_emb16', 'photo_emb17', 'photo_emb18', 'photo_emb19', 'photo_emb20', 'photo_emb21', 'photo_emb22', 'photo_emb23', 'photo_emb24', 'photo_emb25', 'photo_emb26', 'photo_emb27', 'photo_emb28', 'photo_emb29', 'photo_emb30', 'photo_emb31', 'photo_emb32', 'photo_emb33', 'photo_emb34', 'photo_emb35', 'photo_emb36', 'photo_emb37', 'photo_emb38', 'photo_emb39', 'photo_emb40', 'photo_emb41', 'photo_emb42', 'photo_emb43', 'photo_emb44', 'photo_emb45', 'photo_emb46', 'photo_emb47', 'photo_emb48', 'photo_emb49', 'photo_emb50', 'photo_emb51', 'photo_emb52', 'photo_emb53', 'photo_emb54', 'photo_emb55', 'photo_emb56', 'photo_emb57', 'photo_emb58', 'photo_emb59', 'photo_emb60', 'photo_emb61', 'photo_emb62', 'photo_emb63', 'photo_emb64', 'photo_emb65', 'photo_emb66', 'photo_emb67', 'photo_emb68', 'photo_emb69', 'photo_emb70', 'photo_emb71', 'photo_emb72', 'photo_emb73', 'photo_emb74', 'photo_emb75', 'photo_emb76', 'photo_emb77', 'photo_emb78', 'photo_emb79', 'photo_emb80', 'photo_emb81', 'photo_emb82', 'photo_emb83', 'photo_emb84', 'photo_emb85', 'photo_emb86', 'photo_emb87', 'photo_emb88', 'photo_emb89', 'photo_emb90', 'photo_emb91', 'photo_emb92', 'photo_emb93', 'photo_emb94', 'photo_emb95', 'photo_emb96', 'photo_emb97', 'photo_emb98', 'photo_emb99', 'is_flat_ratio', 'is_outdoor_ratio', 'is_plan_ratio', 'photo_cnt'])\n"
     ]
    }
   ],
   "source": [
    "import csv\n",
    "\n",
    "data = []\n",
    "\n",
    "with open('train_df_without_na.csv', 'r') as file:\n",
    "    reader = csv.DictReader(file)\n",
    "    for row in reader:\n",
    "        data.append(row)\n",
    "\n",
    "print(data[0].keys())\n"
   ]
  },
  {
   "cell_type": "code",
   "execution_count": 3,
   "metadata": {},
   "outputs": [
    {
     "ename": "ModuleNotFoundError",
     "evalue": "No module named 'utils'",
     "output_type": "error",
     "traceback": [
      "\u001b[0;31m---------------------------------------------------------------------------\u001b[0m",
      "\u001b[0;31mModuleNotFoundError\u001b[0m                       Traceback (most recent call last)",
      "\u001b[1;32m/Users/yakimov/Dev/hack/valuation/backend/utils/test.ipynb Ячейка 2\u001b[0m line \u001b[0;36m1\n\u001b[0;32m----> <a href='vscode-notebook-cell:/Users/yakimov/Dev/hack/valuation/backend/utils/test.ipynb#W1sZmlsZQ%3D%3D?line=0'>1</a>\u001b[0m \u001b[39mfrom\u001b[39;00m \u001b[39minfo_house\u001b[39;00m\u001b[39m.\u001b[39;00m\u001b[39mget_info_house\u001b[39;00m \u001b[39mimport\u001b[39;00m ObjectInfo\n\u001b[1;32m      <a href='vscode-notebook-cell:/Users/yakimov/Dev/hack/valuation/backend/utils/test.ipynb#W1sZmlsZQ%3D%3D?line=2'>3</a>\u001b[0m address \u001b[39m=\u001b[39m \u001b[39m'\u001b[39m\u001b[39mМосква, Ленниснкий проспект, 20\u001b[39m\u001b[39m'\u001b[39m\n\u001b[1;32m      <a href='vscode-notebook-cell:/Users/yakimov/Dev/hack/valuation/backend/utils/test.ipynb#W1sZmlsZQ%3D%3D?line=3'>4</a>\u001b[0m helper \u001b[39m=\u001b[39m ObjectInfo()\n",
      "File \u001b[0;32m~/Dev/hack/valuation/backend/utils/info_house/get_info_house.py:6\u001b[0m\n\u001b[1;32m      3\u001b[0m \u001b[39mimport\u001b[39;00m \u001b[39mre\u001b[39;00m\n\u001b[1;32m      4\u001b[0m \u001b[39mimport\u001b[39;00m \u001b[39mos\u001b[39;00m\n\u001b[0;32m----> 6\u001b[0m \u001b[39mfrom\u001b[39;00m \u001b[39mutils\u001b[39;00m\u001b[39m.\u001b[39;00m\u001b[39minfo_house\u001b[39;00m\u001b[39m.\u001b[39;00m\u001b[39mconfig\u001b[39;00m \u001b[39mimport\u001b[39;00m street_change, home_change\n\u001b[1;32m      9\u001b[0m \u001b[39mclass\u001b[39;00m \u001b[39mObjectInfo\u001b[39;00m:\n\u001b[1;32m     11\u001b[0m     \u001b[39mdef\u001b[39;00m \u001b[39m__init__\u001b[39m(\u001b[39mself\u001b[39m):\n",
      "\u001b[0;31mModuleNotFoundError\u001b[0m: No module named 'utils'"
     ]
    }
   ],
   "source": [
    "from info_house.get_info_house import ObjectInfo\n",
    "\n",
    "address = 'Москва, Ленниснкий проспект, 20'\n",
    "helper = ObjectInfo()\n",
    "info = helper.get_info_house(address)\n",
    "print(info)"
   ]
  }
 ],
 "metadata": {
  "kernelspec": {
   "display_name": ".venv",
   "language": "python",
   "name": "python3"
  },
  "language_info": {
   "codemirror_mode": {
    "name": "ipython",
    "version": 3
   },
   "file_extension": ".py",
   "mimetype": "text/x-python",
   "name": "python",
   "nbconvert_exporter": "python",
   "pygments_lexer": "ipython3",
   "version": "3.9.6"
  }
 },
 "nbformat": 4,
 "nbformat_minor": 2
}
