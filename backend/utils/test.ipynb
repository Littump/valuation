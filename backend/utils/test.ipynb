{
 "cells": [
  {
   "cell_type": "code",
   "execution_count": 34,
   "metadata": {},
   "outputs": [
    {
     "name": "stdout",
     "output_type": "stream",
     "text": [
      "{'region': 'msc', 'object_type': '2', 'rooms': '1', 'price': '6000000', 'house_material': '0', 'parking_type': 'grn', 'area': '28.0', 'floor': '1', 'floors': '10', 'adress': 'Москва, ЮАО, р-н Бирюлево Западное, м. Битца, Булатниковская улица, 3К4', 'id': '66', 'cnt_rooms': '1.0', 'has_lift': '0', 'sq_m_price': '214285.7142857143', 'latitude': '55.57804985', 'longitude': '37.65739459377893', 'y_coord': '-19.36675482653293', 'x_coord': '2.4903569357658557', 'dist_to_center': '19.526921102701305', 'emb0': '-0.5458251196676149', 'emb1': '-0.619933182409463', 'emb2': '-0.6466784034147657', 'emb3': '0.5182794735749037', 'emb4': '0.2893459148203524', 'emb5': '-0.0728420507288179', 'emb6': '-1.7110824786807195', 'emb7': '0.5587566731354365', 'emb8': '-0.3428885460329743', 'emb9': '-0.2707619792065368', 'emb10': '-0.3008472562337724', 'emb11': '0.0864796526685285', 'emb12': '-0.1512214582628355', 'emb13': '0.448742968258627', 'emb14': '-0.3137946235230909', 'emb15': '0.1931601068578087', 'emb16': '-0.6428972516352167', 'emb17': '-0.9692543481136314', 'emb18': '0.243544696113811', 'emb19': '0.3147907886528768', 'emb20': '-1.1460660837877257', 'emb21': '-0.2023598061373027', 'emb22': '0.6106586358375632', 'emb23': '0.1638543539358159', 'emb24': '0.3898216223594947', 'emb25': '-0.0215299952005107', 'emb26': '1.126217545547451', 'emb27': '0.6484261659251598', 'emb28': '-0.131760362499895', 'emb29': '1.095756113851586', 'emb30': '-0.1957200057804584', 'emb31': '0.0147512129579599', 'emb32': '-0.761591636763814', 'emb33': '0.5441927070227953', 'emb34': '0.0555215795846799', 'emb35': '0.2895641717343376', 'emb36': '-0.5646854690320862', 'emb37': '-0.8885341996255403', 'emb38': '-0.4790420528689327', 'emb39': '-0.687951971964839', 'emb40': '0.5407251497515693', 'emb41': '-0.2113094422294615', 'emb42': '-0.1902899707022767', 'emb43': '0.3913942879746453', 'emb44': '-0.6847586827710844', 'emb45': '0.3732657612373049', 'emb46': '-0.4343287007023508', 'emb47': '1.1406351149153824', 'emb48': '-0.1343028518872765', 'emb49': '-1.4373962894583552', 'emb50': '1.240954541359455', 'emb51': '-0.0680031384108588', 'emb52': '-0.9246387554762456', 'emb53': '0.3069039355390347', 'emb54': '-1.258261101284566', 'emb55': '1.2630294136201532', 'emb56': '-0.2384626088762441', 'emb57': '-0.4724718819085795', 'emb58': '-0.1588428884637183', 'emb59': '0.0124233302552826', 'emb60': '1.3380564088001847', 'emb61': '-0.8789985368852146', 'emb62': '-0.3790066487500343', 'emb63': '-1.2765517020956254', 'emb64': '0.7866832313772577', 'emb65': '0.1001192208809348', 'emb66': '-1.1019677966743564', 'emb67': '0.9108326924391664', 'emb68': '0.6632878497386208', 'emb69': '0.1863526979712053', 'emb70': '0.3561373446853115', 'emb71': '-0.086631931257076', 'emb72': '0.9376834843021172', 'emb73': '-0.6699159896860902', 'emb74': '-0.2339951140232957', 'emb75': '-0.0123050362588121', 'emb76': '0.4459803598001599', 'emb77': '-0.0395836062514438', 'emb78': '0.2318832092703535', 'emb79': '0.2574517788822189', 'emb80': '0.0478780470215357', 'emb81': '0.0181298678060277', 'emb82': '-0.3199196976000586', 'emb83': '0.0367245312977152', 'emb84': '-0.4726647826699683', 'emb85': '0.4473139262946251', 'emb86': '0.3528407190460711', 'emb87': '0.073167567857756', 'emb88': '-1.1522217233522007', 'emb89': '-0.4505498360555905', 'emb90': '0.4647973471751007', 'emb91': '0.2641170389162233', 'emb92': '-0.3893495451484341', 'emb93': '-0.0830633611991428', 'emb94': '0.2760124428135056', 'emb95': '0.3338197058138366', 'emb96': '0.33820335557147', 'emb97': '-0.1844713227071154', 'emb98': '0.0078495872350266', 'emb99': '-0.2234347985627559', 'продуктовый магазин': '7', 'достопримечательность': '2', 'аптека': '10', 'кафе': '3', 'детский сад': '10', 'школа': '8', 'фитнес-клуб': '3', 'поликлиника': '5', 'тц': '3', 'кинотеатр': '1', 'nearest_infro_cnt': '52', 'nearest_metro': 'Красный строитель', 'nearest_metro_dist': '2.944094994456108', 'Площадь всего': '6038.0', 'Год постройки': '1983.0', 'Число этажей': '10.0', 'Аварийный': 'Нет', 'Количество квартир': '5.0', 'Площадь жилых в м2': '5965.0', 'Площадь нежилых в м2': '73.0', 'Культурное наследие': 'Нет', 'Класс энергетической эффективности': 'Не присвоен', 'Количество подъездов': '1.0', 'Количество лифтов': '3', 'Приспособления для маломобильных людей': 'Нет', 'Водоотведение': 'Центральное', 'Газоснабжение': 'Отсутствует', 'Горячее водоснабжение': 'Центральное (закрытая система)', 'Холодное водоснабжение': 'Центральное', 'Теплоснабжение': 'Центральное', 'Электроснабжение': 'Центральное', 'Несущие стены': 'Железобетонные панели', 'Фундамент': 'Ленточный', 'Перекрытия': 'Перекрытия железобетонные', 'nearest_plane_dist': '12.445162086437962', 'nearest_train_dist': '0.4956320018604993', 'nearest_bus_dist': '0.156010032052557', 'is_flat': '4.0', 'is_outdoor': '2.0', 'is_plan': '1.0', 'interior_style': '1.0977860686418743', 'interior_qual': '0.9244666097237172', 'photo_emb0': '-1.3272130486031333', 'photo_emb1': '-0.4838371275645876', 'photo_emb2': '-0.0371547341253853', 'photo_emb3': '-0.3391044735060747', 'photo_emb4': '-0.2544034420807931', 'photo_emb5': '0.4608790277282555', 'photo_emb6': '-0.8793762324042099', 'photo_emb7': '-1.3116726872025994', 'photo_emb8': '-0.9665910599199428', 'photo_emb9': '0.3768394588482034', 'photo_emb10': '-0.6064490674410086', 'photo_emb11': '0.6409498451537884', 'photo_emb12': '-0.3042121230795408', 'photo_emb13': '-0.4279665647867309', 'photo_emb14': '-0.6697661875004051', 'photo_emb15': '-1.2154763933957768', 'photo_emb16': '-0.0787761360209935', 'photo_emb17': '-1.5466816421456782', 'photo_emb18': '-1.517164110758099', 'photo_emb19': '-1.230754136731496', 'photo_emb20': '-1.3811347481135785', 'photo_emb21': '-0.1648220717494896', 'photo_emb22': '-0.569558679915136', 'photo_emb23': '-0.4693849383611236', 'photo_emb24': '-1.300004481944286', 'photo_emb25': '-1.3278362747687489', 'photo_emb26': '0.92575377202732', 'photo_emb27': '-0.6920866964517342', 'photo_emb28': '-1.338102340363717', 'photo_emb29': '-1.667550444186079', 'photo_emb30': '-0.5566641090908755', 'photo_emb31': '-0.5579407809770004', 'photo_emb32': '-1.2452641722427', 'photo_emb33': '-1.8092039819009091', 'photo_emb34': '-1.0322742459577516', 'photo_emb35': '0.8112858531831039', 'photo_emb36': '-0.2984397410600336', 'photo_emb37': '-0.4946874676898199', 'photo_emb38': '-1.9978265757334532', 'photo_emb39': '-1.115471481998049', 'photo_emb40': '-1.2325575348633693', 'photo_emb41': '0.9705469605880516', 'photo_emb42': '-1.329561352397407', 'photo_emb43': '-0.5020503996547608', 'photo_emb44': '-0.4898406265941536', 'photo_emb45': '-0.3184146284261031', 'photo_emb46': '-1.170006870930948', 'photo_emb47': '-2.1512670511589604', 'photo_emb48': '0.7108054755341211', 'photo_emb49': '0.2414025067679574', 'photo_emb50': '-1.689134716565326', 'photo_emb51': '-0.7804560659364778', 'photo_emb52': '-1.6664625402099102', 'photo_emb53': '-0.613602459277294', 'photo_emb54': '-0.5850772260156875', 'photo_emb55': '-1.345317959449132', 'photo_emb56': '-0.6278262136797134', 'photo_emb57': '-1.3253335949445455', 'photo_emb58': '-0.6806783674445764', 'photo_emb59': '-0.6879541276165552', 'photo_emb60': '0.2571734785390697', 'photo_emb61': '-1.29887866941405', 'photo_emb62': '-1.397576093324312', 'photo_emb63': '-1.4476172920422703', 'photo_emb64': '-1.84190404369083', 'photo_emb65': '-0.1346219479701134', 'photo_emb66': '-2.239924430287187', 'photo_emb67': '-1.7169111962794514', 'photo_emb68': '1.310552119881102', 'photo_emb69': '0.021228641266284', 'photo_emb70': '0.5456639526910376', 'photo_emb71': '0.6395701168368726', 'photo_emb72': '-1.7218174930082664', 'photo_emb73': '-1.3389136787881963', 'photo_emb74': '-2.375021457078364', 'photo_emb75': '-0.9967750308405888', 'photo_emb76': '-1.3798624273665212', 'photo_emb77': '-0.7044349907067647', 'photo_emb78': '-1.145180821132467', 'photo_emb79': '-1.2716712948480977', 'photo_emb80': '-1.0450062749157505', 'photo_emb81': '-0.650597512559366', 'photo_emb82': '-0.6429623363794815', 'photo_emb83': '0.2295387982748296', 'photo_emb84': '-0.2633023857412117', 'photo_emb85': '-0.6346054075561924', 'photo_emb86': '0.5717861650944802', 'photo_emb87': '0.4415816663591785', 'photo_emb88': '-1.350836395879637', 'photo_emb89': '-0.6935970185453202', 'photo_emb90': '-0.7282341120806672', 'photo_emb91': '-0.5794590114098532', 'photo_emb92': '-0.026582479470283', 'photo_emb93': '-0.5936106441921125', 'photo_emb94': '-0.5828574894401621', 'photo_emb95': '-0.6149526832950534', 'photo_emb96': '-1.3514597412545422', 'photo_emb97': '-0.2576669751953641', 'photo_emb98': '-1.1661708352034523', 'photo_emb99': '1.042981624342526', 'is_flat_ratio': '0.5714285714285714', 'is_outdoor_ratio': '0.2857142857142857', 'is_plan_ratio': '0.1428571428571428', 'photo_cnt': '7.0'}\n"
     ]
    }
   ],
   "source": [
    "import csv\n",
    "\n",
    "data = []\n",
    "\n",
    "with open('insert_data/data.csv', 'r') as file:\n",
    "    reader = csv.DictReader(file)\n",
    "    for row in reader:\n",
    "        data.append(row)\n",
    "\n",
    "print(data[1])\n"
   ]
  },
  {
   "cell_type": "code",
   "execution_count": 65,
   "metadata": {},
   "outputs": [
    {
     "name": "stdout",
     "output_type": "stream",
     "text": [
      "Отсутствующие колонки в model:\n",
      "Отсутствующие колонки в CSV:\n",
      "metro_how\n"
     ]
    }
   ],
   "source": [
    "path = 'insert_data/'\n",
    "\n",
    "import pandas as pd\n",
    "\n",
    "# Функция для получения списка всех колонок из CSV\n",
    "def get_all_columns_from_csv(file_path):\n",
    "    df = pd.read_csv(file_path)\n",
    "    return df.columns.tolist()\n",
    "\n",
    "# Функция для вывода разницы между двумя списками\n",
    "def get_difference(list1, list2):\n",
    "    return list(set(list1) - set(list2))\n",
    "\n",
    "# Список всех колонок в CSV\n",
    "all_columns = get_all_columns_from_csv(path+'data8.csv')\n",
    "\n",
    "# Список колонок, которые должны остаться\n",
    "desired_columns = [\n",
    "    'house_material',\n",
    "    'object_type',\n",
    "    'repair',\n",
    "    'metro_how',\n",
    "    'has_lift',\n",
    "    'parking_type',\n",
    "    'region',\n",
    "    'address',\n",
    "    'metro_name',\n",
    "    'floor',\n",
    "    'house_year',\n",
    "    'cnt_rooms',\n",
    "    'floors',\n",
    "    'metro_min',\n",
    "    'price_sell',\n",
    "    'area',\n",
    "    'latitude',\n",
    "    'longitude',\n",
    "]\n",
    "\n",
    "# Получение разницы\n",
    "difference1 = get_difference(all_columns, desired_columns)\n",
    "difference2 = get_difference(desired_columns, all_columns)\n",
    "\n",
    "# Вывод разницы\n",
    "print(\"Отсутствующие колонки в model:\")\n",
    "for column in difference1:\n",
    "    print(column)\n",
    "    \n",
    "print(\"Отсутствующие колонки в CSV:\")\n",
    "for column in difference2:\n",
    "    print(column)"
   ]
  },
  {
   "cell_type": "code",
   "execution_count": 66,
   "metadata": {},
   "outputs": [],
   "source": [
    "path = 'insert_data/'\n",
    "\n",
    "import pandas as pd\n",
    "\n",
    "# Загрузите данные из data1.csv\n",
    "data7 = pd.read_csv(path+\"data8.csv\")\n",
    "\n",
    "# Скопируйте столбец \"Год постройки\" в новый столбец \"house_year\"\n",
    "data7[\"metro_how\"] = 1\n",
    "\n",
    "\n",
    "# Сохраните новый датафрейм в data8.csv\n",
    "data7.to_csv(path+\"data9.csv\", index=False)\n"
   ]
  },
  {
   "cell_type": "code",
   "execution_count": 70,
   "metadata": {},
   "outputs": [
    {
     "name": "stdout",
     "output_type": "stream",
     "text": [
      "{'year': 2003, 'count_entrances': 1, 'gas': 'Отсутствует', 'hot_water': 'Автономная котельная (крышная, встроенно-пристроенная)'}\n"
     ]
    }
   ],
   "source": [
    "from info_house.get_info_house import ObjectInfo\n",
    "\n",
    "address = 'Москва, проспект 60-летия Октября, 8'\n",
    "helper = ObjectInfo()\n",
    "info = helper.get_info_house(address)\n",
    "print(info)"
   ]
  },
  {
   "cell_type": "code",
   "execution_count": 71,
   "metadata": {},
   "outputs": [
    {
     "ename": "KeyError",
     "evalue": "'region'",
     "output_type": "error",
     "traceback": [
      "\u001b[0;31m---------------------------------------------------------------------------\u001b[0m",
      "\u001b[0;31mKeyError\u001b[0m                                  Traceback (most recent call last)",
      "\u001b[1;32m/Users/yakimov/Dev/hack/valuation/backend/utils/test.ipynb Ячейка 5\u001b[0m line \u001b[0;36m1\n\u001b[1;32m      <a href='vscode-notebook-cell:/Users/yakimov/Dev/hack/valuation/backend/utils/test.ipynb#W2sZmlsZQ%3D%3D?line=2'>3</a>\u001b[0m data \u001b[39m=\u001b[39m {\n\u001b[1;32m      <a href='vscode-notebook-cell:/Users/yakimov/Dev/hack/valuation/backend/utils/test.ipynb#W2sZmlsZQ%3D%3D?line=3'>4</a>\u001b[0m   \u001b[39m\"\u001b[39m\u001b[39mhouse_material\u001b[39m\u001b[39m\"\u001b[39m: \u001b[39m\"\u001b[39m\u001b[39mbrc\u001b[39m\u001b[39m\"\u001b[39m,\n\u001b[1;32m      <a href='vscode-notebook-cell:/Users/yakimov/Dev/hack/valuation/backend/utils/test.ipynb#W2sZmlsZQ%3D%3D?line=4'>5</a>\u001b[0m   \u001b[39m\"\u001b[39m\u001b[39mobject_type\u001b[39m\u001b[39m\"\u001b[39m: \u001b[39m1\u001b[39m,\n\u001b[0;32m   (...)\u001b[0m\n\u001b[1;32m     <a href='vscode-notebook-cell:/Users/yakimov/Dev/hack/valuation/backend/utils/test.ipynb#W2sZmlsZQ%3D%3D?line=15'>16</a>\u001b[0m   \u001b[39m\"\u001b[39m\u001b[39mlongitude\u001b[39m\u001b[39m\"\u001b[39m: \u001b[39m37.650528\u001b[39m\n\u001b[1;32m     <a href='vscode-notebook-cell:/Users/yakimov/Dev/hack/valuation/backend/utils/test.ipynb#W2sZmlsZQ%3D%3D?line=16'>17</a>\u001b[0m }\n\u001b[1;32m     <a href='vscode-notebook-cell:/Users/yakimov/Dev/hack/valuation/backend/utils/test.ipynb#W2sZmlsZQ%3D%3D?line=17'>18</a>\u001b[0m helper \u001b[39m=\u001b[39m ObjectsHelper()\n\u001b[0;32m---> <a href='vscode-notebook-cell:/Users/yakimov/Dev/hack/valuation/backend/utils/test.ipynb#W2sZmlsZQ%3D%3D?line=18'>19</a>\u001b[0m info \u001b[39m=\u001b[39m helper\u001b[39m.\u001b[39;49mflat_neighbors(data)\n\u001b[1;32m     <a href='vscode-notebook-cell:/Users/yakimov/Dev/hack/valuation/backend/utils/test.ipynb#W2sZmlsZQ%3D%3D?line=19'>20</a>\u001b[0m \u001b[39mprint\u001b[39m(info)\n",
      "File \u001b[0;32m~/Dev/hack/valuation/backend/utils/similar_objects/objects_helper.py:32\u001b[0m, in \u001b[0;36mflat_neighbors\u001b[0;34m(self, target_flat_info)\u001b[0m\n\u001b[1;32m     30\u001b[0m     \u001b[39mif\u001b[39;00m target_flat_info[\u001b[39m\"\u001b[39m\u001b[39maddress\u001b[39m\u001b[39m\"\u001b[39m]\u001b[39m.\u001b[39mlower()\u001b[39m.\u001b[39mfind(key) \u001b[39m!=\u001b[39m \u001b[39m-\u001b[39m\u001b[39m1\u001b[39m:\n\u001b[1;32m     31\u001b[0m         target_flat_info[\u001b[39m\"\u001b[39m\u001b[39mregion\u001b[39m\u001b[39m\"\u001b[39m] \u001b[39m=\u001b[39m replace_region[key]\n\u001b[0;32m---> 32\u001b[0m         \u001b[39mbreak\u001b[39;00m\n\u001b[1;32m     33\u001b[0m city_center_point: \u001b[39mtuple\u001b[39m[\u001b[39mfloat\u001b[39m, \u001b[39mfloat\u001b[39m] \u001b[39m=\u001b[39m (reg_to_coords[target_flat_info[\u001b[39m\"\u001b[39m\u001b[39mregion\u001b[39m\u001b[39m\"\u001b[39m]][\u001b[39m0\u001b[39m],\n\u001b[1;32m     34\u001b[0m                                           reg_to_coords[target_flat_info[\u001b[39m\"\u001b[39m\u001b[39mregion\u001b[39m\u001b[39m\"\u001b[39m]][\u001b[39m1\u001b[39m])\n\u001b[1;32m     35\u001b[0m target_flat_point: \u001b[39mtuple\u001b[39m[\u001b[39mfloat\u001b[39m, \u001b[39mfloat\u001b[39m] \u001b[39m=\u001b[39m (target_flat_info[\u001b[39m\"\u001b[39m\u001b[39mlatitude\u001b[39m\u001b[39m\"\u001b[39m], target_flat_info[\u001b[39m\"\u001b[39m\u001b[39mlongitude\u001b[39m\u001b[39m\"\u001b[39m])\n",
      "\u001b[0;31mKeyError\u001b[0m: 'region'"
     ]
    }
   ],
   "source": [
    "from similar_objects.objects_helper import ObjectsHelper\n",
    "\n",
    "data = {\n",
    "  \"house_material\": \"brc\",\n",
    "  \"object_type\": 1,\n",
    "  \"repair\": \"1;1\",\n",
    "  \"has_lift\": 1,\n",
    "  \"parking_type\": \"mlt\",\n",
    "  \"address\": \"Москва, Ленинский проспект, 20\",\n",
    "  \"floor\": 4,\n",
    "  \"cnt_rooms\": 2,\n",
    "  \"floors\": 9,\n",
    "  \"area\": 60.5,\n",
    "  \"text\": \"A spacious apartment with a great view.\",\n",
    "  \"latitude\": 55.6074133,\n",
    "  \"longitude\": 37.650528\n",
    "}\n",
    "helper = ObjectsHelper()\n",
    "info = helper.get_flat_neighbors(data)\n",
    "print(info)"
   ]
  },
  {
   "cell_type": "code",
   "execution_count": 80,
   "metadata": {},
   "outputs": [
    {
     "name": "stdout",
     "output_type": "stream",
     "text": [
      "{'meta': {'api_version': '3.0.17494', 'code': 200, 'issue_date': '20231105'}, 'result': {'items': [{'address_name': 'Ленинский проспект, 20', 'full_name': 'Москва, Ленинский проспект, 20', 'id': '4504235282717386', 'name': 'Ленинский проспект, 20', 'point': {'lat': 55.716857, 'lon': 37.593148}, 'purpose_name': 'Жилой дом', 'type': 'building'}, {'address_name': 'Ленинский проспект, 20 ст1', 'full_name': 'Москва, Ленинский проспект, 20 ст1', 'id': '4504235282717446', 'name': 'Ленинский проспект, 20 ст1', 'point': {'lat': 55.71741, 'lon': 37.592182}, 'purpose_name': 'Административное здание', 'type': 'building'}, {'address_name': 'Ленинский проспект, 20', 'full_name': 'Химки, Ленинский проспект, 20', 'id': '4504235295618926', 'name': 'Ленинский проспект, 20', 'point': {'lat': 55.904744, 'lon': 37.467223}, 'purpose_name': 'Жилой дом', 'type': 'building'}, {'address_name': 'Ленинский проспект, 20 к4', 'full_name': 'Москва, Ленинский проспект, 20 к4', 'id': '4504235282720040', 'name': 'Ленинский проспект, 20 к4', 'point': {'lat': 55.718301, 'lon': 37.592283}, 'purpose_name': 'Административное здание', 'type': 'building'}, {'address_name': 'Ленинский проспект, 20 к5', 'full_name': 'Москва, Ленинский проспект, 20 к5', 'id': '4504235282717454', 'name': 'Ленинский проспект, 20 к5', 'point': {'lat': 55.717989, 'lon': 37.591839}, 'purpose_name': 'Административное здание', 'type': 'building'}], 'total': 5}}\n",
      "(55.716857, 37.593148, 'Москва, Ленинский проспект, 20')\n"
     ]
    }
   ],
   "source": [
    "import requests\n",
    "from geocoder.keys import api_keys\n",
    "\n",
    "\n",
    "def get_coordinates(address: str):\n",
    "    url = 'https://catalog.api.2gis.com/3.0/items/geocode'\n",
    "    params = {\n",
    "        'q': address,\n",
    "        'fields': 'items.point',\n",
    "    }\n",
    "    for key in api_keys:\n",
    "        params['key'] = key\n",
    "        response = requests.get(url, params=params)\n",
    "        if response.status_code != 200:\n",
    "            continue\n",
    "        data = response.json()\n",
    "        if data['meta']['code'] == 200:\n",
    "            break\n",
    "    point = data['result']['items'][0]['point']\n",
    "    full_name = data['result']['items'][0]['full_name']\n",
    "    return point['lat'], point['lon'], full_name\n",
    "\n",
    "print(get_coordinates('Москва, Ленинский проспект, 20'))"
   ]
  }
 ],
 "metadata": {
  "kernelspec": {
   "display_name": ".venv",
   "language": "python",
   "name": "python3"
  },
  "language_info": {
   "codemirror_mode": {
    "name": "ipython",
    "version": 3
   },
   "file_extension": ".py",
   "mimetype": "text/x-python",
   "name": "python",
   "nbconvert_exporter": "python",
   "pygments_lexer": "ipython3",
   "version": "3.9.6"
  }
 },
 "nbformat": 4,
 "nbformat_minor": 2
}
