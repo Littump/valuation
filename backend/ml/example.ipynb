{
 "cells": [
  {
   "cell_type": "markdown",
   "metadata": {},
   "source": [
    " ## перевод массива InMemoryUploadedFile в массив PIL"
   ]
  },
  {
   "cell_type": "code",
   "execution_count": 1,
   "metadata": {},
   "outputs": [],
   "source": [
    "from PIL import Image\n",
    "from io import BytesIO\n",
    "\n",
    "def imuf_array_to_pil_array(arr):    \n",
    "    res = []\n",
    "    for file in arr:\n",
    "        file_data = file.read()\n",
    "        image_data = BytesIO(file_data)\n",
    "        res.append(Image.open(image_data))\n",
    "    return res"
   ]
  },
  {
   "cell_type": "markdown",
   "metadata": {},
   "source": [
    "## Пример создания экземпляра модели"
   ]
  },
  {
   "cell_type": "code",
   "execution_count": 2,
   "metadata": {},
   "outputs": [
    {
     "name": "stderr",
     "output_type": "stream",
     "text": [
      "[nltk_data] Downloading package punkt to\n",
      "[nltk_data]     C:\\Users\\Vitya\\AppData\\Roaming\\nltk_data...\n",
      "[nltk_data]   Package punkt is already up-to-date!\n",
      "[nltk_data] Downloading package stopwords to\n",
      "[nltk_data]     C:\\Users\\Vitya\\AppData\\Roaming\\nltk_data...\n",
      "[nltk_data]   Package stopwords is already up-to-date!\n"
     ]
    }
   ],
   "source": [
    "from model import PriceEstimator\n",
    "model = PriceEstimator('models', device='cpu')"
   ]
  },
  {
   "cell_type": "markdown",
   "metadata": {},
   "source": [
    "## Пример использования get_repair"
   ]
  },
  {
   "cell_type": "code",
   "execution_count": 3,
   "metadata": {},
   "outputs": [],
   "source": [
    "\n",
    "import os\n",
    "from PIL import Image\n",
    "imgs = []\n",
    "for i in os.listdir('A:\\\\datasets\\\\real_estate_finodays_2023\\\\test_photos\\\\3'):\n",
    "    imgs.append(Image.open('A:\\\\datasets\\\\real_estate_finodays_2023\\\\test_photos\\\\3\\\\'+i))"
   ]
  },
  {
   "cell_type": "code",
   "execution_count": 4,
   "metadata": {},
   "outputs": [
    {
     "data": {
      "text/plain": [
       "{'interior_style': 2.4452078,\n",
       " 'interior_qual': 1.8593098,\n",
       " 'embeddings': array([-1.56870317e+00,  6.90021157e-01,  3.45137596e-01,  5.66595018e-01,\n",
       "         6.74043179e-01, -1.19477674e-01, -2.35460758e+00, -1.40918386e+00,\n",
       "        -1.45172310e+00, -4.47958291e-01,  9.76785421e-01, -7.10129559e-01,\n",
       "         4.75908488e-01,  1.08901672e-01,  8.96734238e-01, -1.74109578e+00,\n",
       "         4.68700022e-01, -1.74208188e+00, -1.56538272e+00, -1.61479688e+00,\n",
       "        -1.94760096e+00, -7.20060095e-02,  8.18561316e-01,  7.34283209e-01,\n",
       "        -1.41776383e+00, -2.34046555e+00, -1.08826745e+00, -1.36838543e+00,\n",
       "        -8.46281767e-01, -3.31099343e+00,  8.21863234e-01,  7.45305479e-01,\n",
       "        -2.14331794e+00, -1.90244603e+00, -1.03091991e+00, -2.16293857e-01,\n",
       "         7.54136682e-01,  5.01451731e-01, -2.27788067e+00, -1.74667156e+00,\n",
       "        -1.68387842e+00,  1.57890562e-02, -2.38073325e+00,  7.80037940e-01,\n",
       "         7.58751333e-01,  6.72325313e-01, -1.59936714e+00, -2.62661791e+00,\n",
       "        -4.63433385e-01, -6.29346132e-01, -2.27809143e+00,  1.24939755e-01,\n",
       "        -1.36587703e+00,  9.86528456e-01,  8.27991426e-01, -1.69516265e+00,\n",
       "        -1.52797401e+00, -2.57892418e+00,  8.12338829e-01,  8.67380679e-01,\n",
       "         3.95635217e-01, -2.22925401e+00, -1.73202062e+00, -1.81539118e+00,\n",
       "        -2.48217511e+00,  4.75278497e-01, -2.11933517e+00, -2.58978724e+00,\n",
       "        -1.82901144e+00,  4.97995168e-01, -3.28508299e-03, -5.29160440e-01,\n",
       "        -2.42088103e+00, -1.46646988e+00, -2.49752188e+00, -1.07600260e+00,\n",
       "        -2.12001872e+00,  7.95322835e-01, -1.70030713e+00, -1.24400246e+00,\n",
       "        -1.24501145e+00,  7.52374113e-01,  7.40309536e-01, -5.96381783e-01,\n",
       "         4.33683217e-01,  7.94410944e-01, -7.82202482e-01, -3.89204696e-02,\n",
       "        -1.49393034e+00,  8.12104762e-01,  1.37335762e-01,  7.30378330e-02,\n",
       "         5.31928599e-01,  9.60157037e-01, -1.02266169e+00,  7.59635031e-01,\n",
       "        -2.46818566e+00,  4.84982103e-01, -1.67040062e+00, -8.45139474e-02],\n",
       "       dtype=float32)}"
      ]
     },
     "execution_count": 4,
     "metadata": {},
     "output_type": "execute_result"
    }
   ],
   "source": [
    "model.get_repair(imgs)"
   ]
  },
  {
   "cell_type": "markdown",
   "metadata": {},
   "source": [
    "## Пример обработки запроса\n"
   ]
  },
  {
   "cell_type": "code",
   "execution_count": 26,
   "metadata": {},
   "outputs": [
    {
     "data": {
      "text/plain": [
       "1460980.100869917"
      ]
     },
     "execution_count": 26,
     "metadata": {},
     "output_type": "execute_result"
    }
   ],
   "source": [
    "text='''5'''\n",
    "\n",
    "model.predict({'adress': 'Москва, улица Гурьянова, 41',\n",
    "                'object_type': '2',\n",
    "                'text': text,\n",
    "                'house_material': 'blc',            \n",
    "                'cnt_rooms': 1,\n",
    "                'floor': 1,\n",
    "                'area': 5.0,\n",
    "                'has_lift': 1,\n",
    "                'parking_type': '1',\n",
    "                'repair': (1,2)\n",
    "               })"
   ]
  },
  {
   "cell_type": "code",
   "execution_count": 6,
   "metadata": {},
   "outputs": [
    {
     "data": {
      "text/plain": [
       "{'house_year': 1977,\n",
       " 'floors': 15,\n",
       " 'metro_name': 'Депо',\n",
       " 'metro_min': 15.71849899794084,\n",
       " 'metro_how': 'пешком'}"
      ]
     },
     "execution_count": 6,
     "metadata": {},
     "output_type": "execute_result"
    }
   ],
   "source": [
    "model.get_appart_info({'address':'Москва, улица Гурьянова, 41',\n",
    "                'object_type': '2',\n",
    "                'text': text,\n",
    "                'house_material': 'blc',            \n",
    "                'cnt_rooms': 1,\n",
    "                'floor': 4,\n",
    "                'area': 1.0,\n",
    "                'has_lift': 0,\n",
    "                'parking_type': '0',\n",
    "                'repair': imgs})"
   ]
  }
 ],
 "metadata": {
  "kernelspec": {
   "display_name": ".venv",
   "language": "python",
   "name": "python3"
  },
  "language_info": {
   "codemirror_mode": {
    "name": "ipython",
    "version": 3
   },
   "file_extension": ".py",
   "mimetype": "text/x-python",
   "name": "python",
   "nbconvert_exporter": "python",
   "pygments_lexer": "ipython3",
   "version": "3.8.0"
  },
  "orig_nbformat": 4
 },
 "nbformat": 4,
 "nbformat_minor": 2
}
