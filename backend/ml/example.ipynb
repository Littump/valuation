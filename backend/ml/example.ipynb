{
 "cells": [
  {
   "cell_type": "markdown",
   "metadata": {},
   "source": [
    " ## перевод массива InMemoryUploadedFile в массив PIL"
   ]
  },
  {
   "cell_type": "code",
   "execution_count": 1,
   "metadata": {},
   "outputs": [],
   "source": [
    "from PIL import Image\n",
    "from io import BytesIO\n",
    "\n",
    "def imuf_array_to_pil_array(arr):    \n",
    "    res = []\n",
    "    for file in arr:\n",
    "        file_data = file.read()\n",
    "        image_data = BytesIO(file_data)\n",
    "        res.append(Image.open(image_data))\n",
    "    return res"
   ]
  },
  {
   "cell_type": "markdown",
   "metadata": {},
   "source": [
    "## Пример создания экземпляра модели"
   ]
  },
  {
   "cell_type": "code",
   "execution_count": 3,
   "metadata": {},
   "outputs": [
    {
     "name": "stderr",
     "output_type": "stream",
     "text": [
      "c:\\Users\\Vitya\\neural\\.venv\\lib\\site-packages\\torchvision\\io\\image.py:13: UserWarning: Failed to load image Python extension: 'Could not find module 'C:\\Users\\Vitya\\neural\\.venv\\Lib\\site-packages\\torchvision\\image.pyd'. Try using the full path with constructor syntax.'If you don't plan on using image functionality from `torchvision.io`, you can ignore this warning. Otherwise, there might be something wrong with your environment. Did you have `libjpeg` or `libpng` installed before building `torchvision` from source?\n",
      "  warn(\n",
      "[nltk_data] Downloading package punkt to\n",
      "[nltk_data]     C:\\Users\\Vitya\\AppData\\Roaming\\nltk_data...\n",
      "[nltk_data]   Package punkt is already up-to-date!\n",
      "[nltk_data] Downloading package stopwords to\n",
      "[nltk_data]     C:\\Users\\Vitya\\AppData\\Roaming\\nltk_data...\n",
      "[nltk_data]   Package stopwords is already up-to-date!\n"
     ]
    }
   ],
   "source": [
    "from model import PriceEstimator\n",
    "model = PriceEstimator('models', device='cpu')"
   ]
  },
  {
   "cell_type": "markdown",
   "metadata": {},
   "source": [
    "## Пример использования get_repair"
   ]
  },
  {
   "cell_type": "code",
   "execution_count": 4,
   "metadata": {},
   "outputs": [],
   "source": [
    "import os\n",
    "from PIL import Image\n",
    "imgs = []\n",
    "for i in os.listdir('A:\\\\datasets\\\\real_estate_finodays_2023\\\\test_photos\\\\3'):\n",
    "    imgs.append(Image.open('A:\\\\datasets\\\\real_estate_finodays_2023\\\\test_photos\\\\3\\\\'+i))"
   ]
  },
  {
   "cell_type": "code",
   "execution_count": 5,
   "metadata": {},
   "outputs": [
    {
     "data": {
      "text/plain": [
       "{'interior_style': 2.4452078,\n",
       " 'interior_qual': 1.8593098,\n",
       " 'embeddings': array([-1.56870317e+00,  6.90021157e-01,  3.45137596e-01,  5.66595018e-01,\n",
       "         6.74043179e-01, -1.19477674e-01, -2.35460758e+00, -1.40918386e+00,\n",
       "        -1.45172310e+00, -4.47958291e-01,  9.76785421e-01, -7.10129559e-01,\n",
       "         4.75908488e-01,  1.08901672e-01,  8.96734238e-01, -1.74109578e+00,\n",
       "         4.68700022e-01, -1.74208188e+00, -1.56538272e+00, -1.61479688e+00,\n",
       "        -1.94760096e+00, -7.20060095e-02,  8.18561316e-01,  7.34283209e-01,\n",
       "        -1.41776383e+00, -2.34046555e+00, -1.08826745e+00, -1.36838543e+00,\n",
       "        -8.46281767e-01, -3.31099343e+00,  8.21863234e-01,  7.45305479e-01,\n",
       "        -2.14331794e+00, -1.90244603e+00, -1.03091991e+00, -2.16293857e-01,\n",
       "         7.54136682e-01,  5.01451731e-01, -2.27788067e+00, -1.74667156e+00,\n",
       "        -1.68387842e+00,  1.57890562e-02, -2.38073325e+00,  7.80037940e-01,\n",
       "         7.58751333e-01,  6.72325313e-01, -1.59936714e+00, -2.62661791e+00,\n",
       "        -4.63433385e-01, -6.29346132e-01, -2.27809143e+00,  1.24939755e-01,\n",
       "        -1.36587703e+00,  9.86528456e-01,  8.27991426e-01, -1.69516265e+00,\n",
       "        -1.52797401e+00, -2.57892418e+00,  8.12338829e-01,  8.67380679e-01,\n",
       "         3.95635217e-01, -2.22925401e+00, -1.73202062e+00, -1.81539118e+00,\n",
       "        -2.48217511e+00,  4.75278497e-01, -2.11933517e+00, -2.58978724e+00,\n",
       "        -1.82901144e+00,  4.97995168e-01, -3.28508299e-03, -5.29160440e-01,\n",
       "        -2.42088103e+00, -1.46646988e+00, -2.49752188e+00, -1.07600260e+00,\n",
       "        -2.12001872e+00,  7.95322835e-01, -1.70030713e+00, -1.24400246e+00,\n",
       "        -1.24501145e+00,  7.52374113e-01,  7.40309536e-01, -5.96381783e-01,\n",
       "         4.33683217e-01,  7.94410944e-01, -7.82202482e-01, -3.89204696e-02,\n",
       "        -1.49393034e+00,  8.12104762e-01,  1.37335762e-01,  7.30378330e-02,\n",
       "         5.31928599e-01,  9.60157037e-01, -1.02266169e+00,  7.59635031e-01,\n",
       "        -2.46818566e+00,  4.84982103e-01, -1.67040062e+00, -8.45139474e-02],\n",
       "       dtype=float32)}"
      ]
     },
     "execution_count": 5,
     "metadata": {},
     "output_type": "execute_result"
    }
   ],
   "source": [
    "model.get_repair(imgs)"
   ]
  },
  {
   "cell_type": "markdown",
   "metadata": {},
   "source": [
    "## Пример обработки запроса\n"
   ]
  },
  {
   "cell_type": "code",
   "execution_count": 6,
   "metadata": {},
   "outputs": [
    {
     "name": "stderr",
     "output_type": "stream",
     "text": [
      "c:\\Users\\Vitya\\neural\\FINOdays\\api\\zhkh_utils.py:45: FutureWarning: The default value of regex will change from True to False in a future version.\n",
      "  df ['Адрес'] = df ['Адрес'].str.replace ('пер\\.', 'пер')\n"
     ]
    },
    {
     "data": {
      "text/plain": [
       "22132695.342129424"
      ]
     },
     "execution_count": 6,
     "metadata": {},
     "output_type": "execute_result"
    }
   ],
   "source": [
    "text='''Просторная 2х комнатная квартира в престижном юго-западном районе Москвы, вблизи 3х станций метро, отличный выезд на МКАД и на ТТК. Развитый район с хорошей инфраструктурой: магазины, лучшие школы и лицеи, близость МГУ  им. Ломоносова и других престижных ВУЗов.\\n\\nКирпичный сталинский дом Академии Наук, построенный по специальному проекту. Соседи как родственники: все знакомы и одного круга. Ухоженный двор, детская площадка в зелени, парковка, чистый подъезд с подъемником для маломобильных жильцов и грузов. В подъезде есть чистый мусоропровод на лестничной площадке.\\n\\nВ квартире очень качественный, но уже давний ремонт. Состояние хорошее  заходи и живи. Высокие потолки 3.1м, паркет, светлые солнечные тона обоев.\\nКвартира светлая, но не жаркая: окна на СВ на Пушкинский сквер. В квартире выполнена и оформлена перепланировка: комнаты изолированные 20 и 14 м. За коридором (5м) следует прихожая, площадью 6 м, используемая как отдельное пространство. Санузел раздельный, большая квадратная кухня-столовая 9,5м. Есть балкон. В собственности более 30ти лет.\\n\\nСвободная продажа. Показы по договоренности ТОЛЬКО РЕАЛЬНЫМ ПОКУПАТЕЛЯМ. Риэлторам без покупателей просьба не беспокоить.'''\n",
    "imgs = []\n",
    "for i in os.listdir('A:\\\\datasets\\\\real_estate_finodays_2023\\\\photos_from_df\\\\37067'):\n",
    "    imgs.append(Image.open('A:\\\\datasets\\\\real_estate_finodays_2023\\\\photos_from_df\\\\37067\\\\'+i))\n",
    "\n",
    "model.predict({'address': 'Москва, ЮЗАО, р-н Академический, м. Академическая, Профсоюзная улица, 18К1',\n",
    "                'object_type': 2,\n",
    "                'text': text,\n",
    "                'house_material': 'blc',            \n",
    "                'cnt_rooms': 2,\n",
    "                'floor': 7,\n",
    "                'floors': 10,\n",
    "                'area': 63.0,\n",
    "                'has_lift': 0,\n",
    "                'parking_type': '0',\n",
    "                'repair': imgs,\n",
    "                'lat': 55.683077,\n",
    "                'lon': 37.567267\n",
    "               })"
   ]
  },
  {
   "cell_type": "markdown",
   "metadata": {},
   "source": [
    "## Пример использования get_appart_info"
   ]
  },
  {
   "cell_type": "code",
   "execution_count": 11,
   "metadata": {},
   "outputs": [
    {
     "name": "stderr",
     "output_type": "stream",
     "text": [
      "c:\\Users\\Vitya\\neural\\FINOdays\\api\\zhkh_utils.py:45: FutureWarning: The default value of regex will change from True to False in a future version.\n",
      "  df ['Адрес'] = df ['Адрес'].str.replace ('пер\\.', 'пер')\n"
     ]
    },
    {
     "data": {
      "text/plain": [
       "{'region': 'msc',\n",
       " 'house_year': 1954,\n",
       " 'metro_name': 'Академическая',\n",
       " 'metro_min': 11.049151416091735}"
      ]
     },
     "execution_count": 11,
     "metadata": {},
     "output_type": "execute_result"
    }
   ],
   "source": [
    "model.get_appart_info('Москва, ЮЗАО, р-н Академический, м. Академическая, Профсоюзная улица, 18К1', 55.683077, 37.567267)"
   ]
  },
  {
   "cell_type": "code",
   "execution_count": 12,
   "metadata": {},
   "outputs": [
    {
     "data": {
      "text/plain": [
       "(55.7304316, 37.56889565781462)"
      ]
     },
     "execution_count": 12,
     "metadata": {},
     "output_type": "execute_result"
    }
   ],
   "source": [
    "from zhkh_utils import get_formated_adress\n",
    "model._get_coordinates_photon_with_retry('Москва, Большая Пироговская улица, 23')"
   ]
  },
  {
   "cell_type": "code",
   "execution_count": 13,
   "metadata": {},
   "outputs": [
    {
     "name": "stderr",
     "output_type": "stream",
     "text": [
      "c:\\Users\\Vitya\\neural\\FINOdays\\api\\zhkh_utils.py:45: FutureWarning: The default value of regex will change from True to False in a future version.\n",
      "  df ['Адрес'] = df ['Адрес'].str.replace ('пер\\.', 'пер')\n"
     ]
    },
    {
     "data": {
      "text/plain": [
       "'Москва, город Москва, улица Ефремова, 8'"
      ]
     },
     "execution_count": 13,
     "metadata": {},
     "output_type": "execute_result"
    }
   ],
   "source": [
    "get_formated_adress('Москва, улица Ефремова, 8')"
   ]
  },
  {
   "cell_type": "markdown",
   "metadata": {},
   "source": [
    "## Пример использования get_infrastructure\n"
   ]
  },
  {
   "cell_type": "code",
   "execution_count": 16,
   "metadata": {},
   "outputs": [
    {
     "data": {
      "text/plain": [
       "{'продуктовый магазин': {'count': 3,\n",
       "  'items': [{'name': 'ВкусВилл, магазин с доставкой полезных продуктов',\n",
       "    'point': [55.724244, 37.564325]},\n",
       "   {'name': 'Дикси, супермаркет', 'point': [55.727217, 37.566924]},\n",
       "   {'name': 'Дикси, супермаркет', 'point': [55.727853, 37.560301]}]},\n",
       " 'достопримечательность': {'count': 1,\n",
       "  'items': [{'name': 'Усачевский рынок', 'point': [55.727534, 37.567792]}]},\n",
       " 'аптека': {'count': 4,\n",
       "  'items': [{'name': 'Будь Здоров!, аптека', 'point': [55.722973, 37.56603]},\n",
       "   {'name': 'Столички, аптека', 'point': [55.723262, 37.567742]},\n",
       "   {'name': 'Ваша №1, аптека', 'point': [55.723477, 37.565355]},\n",
       "   {'name': '36,6, аптечный пункт №10', 'point': [55.727462, 37.561312]}]},\n",
       " 'кафе': {'count': 4,\n",
       "  'items': [{'name': 'Road to Beer, кафе-бар', 'point': [55.72265, 37.561834]},\n",
       "   {'name': 'Frank by Баста, реберная', 'point': [55.727318, 37.56772]},\n",
       "   {'name': 'Сицилия, кофейня', 'point': [55.728959, 37.558664]},\n",
       "   {'name': 'Кофемания', 'point': [55.727736, 37.567781]}]},\n",
       " 'детский сад': {'count': 1,\n",
       "  'items': [{'name': 'Школа №1231 им. В.Д. Поленова',\n",
       "    'point': [55.729649, 37.561492]}]},\n",
       " 'школа': {'count': 3,\n",
       "  'items': [{'name': 'Школа №171', 'point': [55.724016, 37.560606]},\n",
       "   {'name': 'Школа №1535', 'point': [55.726155, 37.564946]},\n",
       "   {'name': 'Школа №1535', 'point': [55.731032, 37.562204]}]},\n",
       " 'фитнес-клуб': {'count': 1,\n",
       "  'items': [{'name': 'World Class', 'point': [55.725915, 37.572684]}]},\n",
       " 'поликлиника': {'count': 3,\n",
       "  'items': [{'name': 'Детская городская поликлиника №38 Департамента здравоохранения г. Москвы, амбулаторный центр',\n",
       "    'point': [55.725828, 37.561542]},\n",
       "   {'name': 'Городская поликлиника №68 Департамента здравоохранения г. Москвы, травматологическое отделение',\n",
       "    'point': [55.726024, 37.56139]},\n",
       "   {'name': 'Московский научно-исследовательский онкологический институт им. П.А. Герцена, поликлиника',\n",
       "    'point': [55.734491, 37.570821]}]},\n",
       " 'тц': {'count': 0, 'items': []},\n",
       " 'кинотеатр': {'count': 0, 'items': []}}"
      ]
     },
     "execution_count": 16,
     "metadata": {},
     "output_type": "execute_result"
    }
   ],
   "source": [
    "model.get_infrastructure('Москва, Большая Пироговская улица, 23', 55.730568, 37.569225)"
   ]
  }
 ],
 "metadata": {
  "kernelspec": {
   "display_name": ".venv",
   "language": "python",
   "name": "python3"
  },
  "language_info": {
   "codemirror_mode": {
    "name": "ipython",
    "version": 3
   },
   "file_extension": ".py",
   "mimetype": "text/x-python",
   "name": "python",
   "nbconvert_exporter": "python",
   "pygments_lexer": "ipython3",
   "version": "3.8.0"
  },
  "orig_nbformat": 4
 },
 "nbformat": 4,
 "nbformat_minor": 2
}
